{
 "cells": [
  {
   "cell_type": "code",
   "execution_count": 1,
   "id": "52bff7eb",
   "metadata": {},
   "outputs": [
    {
     "name": "stderr",
     "output_type": "stream",
     "text": [
      "Using TensorFlow backend.\n"
     ]
    }
   ],
   "source": [
    "#reproducability\n",
    "from numpy.random import seed\n",
    "seed(1)\n",
    "import tensorflow as tf\n",
    "tf.random.set_seed(1)\n",
    "\n",
    "import numpy as np\n",
    "from bayes_opt import BayesianOptimization\n",
    "from bayes_opt.logger import JSONLogger\n",
    "from bayes_opt.event import Events\n",
    "from bayes_opt.util import load_logs\n",
    "import os\n",
    "import glob\n",
    "import pandas as pd\n",
    "import keras as ks\n",
    "import datetime\n",
    "from scipy import stats\n",
    "from matplotlib import pyplot\n",
    "from sklearn.preprocessing import MinMaxScaler\n",
    "import tensorflow as tf\n",
    "from sklearn.metrics import r2_score,mean_absolute_error,mean_squared_error\n",
    "\n",
    "gpus = tf.config.experimental.list_physical_devices('GPU')\n",
    "\n",
    "nl=np.array([0,69,131,175,218,255,278,299,318,337,467,571,667,750,829,901,963,1023,1079,1163,1235,\n",
    "            1301,1357,1412,1459,1503,1545,1585])"
   ]
  },
  {
   "cell_type": "code",
   "execution_count": 2,
   "id": "622972a9",
   "metadata": {},
   "outputs": [],
   "source": [
    "def load_Data(ns):    \n",
    "    data_dir ='D:\\\\keras\\\\conduitflow'\n",
    "    fname = os.path.join(data_dir, 'BTCdata_a+b+c.csv')\n",
    "\n",
    "    f = open(fname)\n",
    "    data = f.read()\n",
    "    f.close()\n",
    "\n",
    "    lines = data.split('\\n')##以\\n为分隔符，分割字符串data，形成字符串列表lines\n",
    "    header = lines[0].split(',')##lines[0]为字符串，header为字符串列表\n",
    "    lines = lines[1:-1]##提取字符串列表的第2至最后一个元素，形成新的列表\n",
    "    \n",
    "    float_data = np.zeros((len(lines), len(header)))##(1179,3)数组,元素为0\n",
    "    for i, line in enumerate(lines):\n",
    "    ## print(i) ##i=0时，对应line为lines的第一行\n",
    "        values = [float(x) for x in line.split(',')]\n",
    "        float_data[i, :] = values\n",
    "    ##print(float_data[0, :])\n",
    "    \n",
    "    # inputs\n",
    "    X_test=float_data[nl[ns-1]:nl[ns],0:4]##(55,2)  Q=0.1293L/s,c5的数据作测试样本，前两列为输入\n",
    "    Y_test=float_data[nl[ns-1]:nl[ns],-1]##(55,)Q=0.1293L/s,c5的数据作测试样本，最后一列为浓度输出\n",
    "    data=np.concatenate(\n",
    "        [float_data[:nl[ns-1]],\n",
    "         float_data[nl[ns]:]],\n",
    "        axis=0)##(450,3) 剩下的450个样本做训练和验证样本\n",
    "    np.random.shuffle(data)##打乱数据\n",
    "    Train_data=data[:,0:4]##(450,2)#使用打乱后的450个样本作为训练和验证数据\n",
    "    Train_targets=data[:,-1]##(450,)\n",
    "\n",
    "    #scale data\n",
    "    mean = Train_data.mean(axis=0)\n",
    "    Train_data -= mean\n",
    "    std = Train_data.std(axis=0)\n",
    "    Train_data /= std\n",
    "\n",
    "    X_test -= mean\n",
    "    X_test /= std\n",
    "\n",
    "    X_train = Train_data[0:round(0.8 * len(Train_data))]\n",
    "    Y_train = Train_targets[0:round(0.8 * len(Train_targets))]\n",
    "    X_stop = Train_data[round(0.8 * len(Train_data)):round(0.9 * len(Train_data))]\n",
    "    Y_stop = Train_targets[round(0.8 * len(Train_targets)):round(0.9 * len(Train_targets))]\n",
    "    X_opt=Train_data[round(0.9 * len(Train_data)):]\n",
    "    Y_opt=Train_targets[round(0.9 * len(Train_targets)):]\n",
    "    \n",
    "    \n",
    "    return X_train,Y_train,X_stop,Y_stop, X_opt,Y_opt,X_test,Y_test"
   ]
  },
  {
   "cell_type": "code",
   "execution_count": 3,
   "id": "23c59545",
   "metadata": {},
   "outputs": [],
   "source": [
    "def build_model(ini,GLOBAL_SETTINGS,X_train, Y_train,X_stop, Y_stop):\n",
    "    # define model\n",
    "    seed(ini)\n",
    "    tf.random.set_seed(ini)\n",
    "    model = ks.models.Sequential()\n",
    "    model.add(ks.layers.Dense(GLOBAL_SETTINGS[\"hidden_size\"], activation='relu',\n",
    "                           input_shape=(X_train.shape[1],),name=\"dense_1\"))\n",
    "    model.add(ks.layers.Dense(GLOBAL_SETTINGS[\"hidden_size\"], activation='relu',name=\"dense_2\"))\n",
    "    model.add(ks.layers.Dense(1,name=\"dense_3\"))\n",
    "    \n",
    "    #optimizer = ks.optimizers.Adam(lr=GLOBAL_SETTINGS[\"learning_rate\"], epsilon=10E-3,\n",
    "                                   #clipnorm=GLOBAL_SETTINGS[\"clip_norm\"], clipvalue=GLOBAL_SETTINGS[\"clip_value\"])\n",
    "    \n",
    "    model.compile(optimizer='rmsprop', loss='mse', metrics=['mae'])\n",
    "\n",
    "    # early stopping\n",
    "    es = ks.callbacks.EarlyStopping(monitor='val_loss', mode='min', verbose=0, patience=50)\n",
    "    \n",
    "    model.fit(X_train, Y_train, validation_data=(X_stop, Y_stop), epochs=GLOBAL_SETTINGS[\"epochs\"], verbose=0,\n",
    "                        batch_size=GLOBAL_SETTINGS[\"batch_size\"], callbacks=[es])\n",
    "    \n",
    "    return model"
   ]
  },
  {
   "cell_type": "code",
   "execution_count": 4,
   "id": "97596b9e",
   "metadata": {},
   "outputs": [],
   "source": [
    "def bayesOpt_function(hiddensize, batchsize):\n",
    "    hiddensize_int = int(hiddensize)\n",
    "    batchsize_int = int(batchsize)\n",
    "\n",
    "    return bayesOpt_function_with_discrete_params(hiddensize_int, batchsize_int)"
   ]
  },
  {
   "cell_type": "code",
   "execution_count": 5,
   "id": "a93562eb",
   "metadata": {},
   "outputs": [],
   "source": [
    "def bayesOpt_function_with_discrete_params(hiddensize_int, batchsize_int):\n",
    "    \n",
    "    assert type(hiddensize_int) == int\n",
    "    assert type(batchsize_int) == int\n",
    "    #[...]\n",
    "    \n",
    "    # fixed settings for all experiments\n",
    "    GLOBAL_SETTINGS = {\n",
    "        'batch_size': batchsize_int,\n",
    "        'clip_norm': True,\n",
    "        'clip_value': 1,\n",
    "        'dropout': 0,\n",
    "        'epochs': 1000,\n",
    "        'hidden_size': hiddensize_int,\n",
    "        'learning_rate': 1e-3\n",
    "    }\n",
    "\n",
    "\n",
    "    #build and train model with idifferent initializations\n",
    "    inimax = 5\n",
    "    optresults_members = np.zeros((len(X_opt), inimax))\n",
    "    #print(X_opt)#(n,2)\n",
    "    #print(Y_opt)#(n,)\n",
    "    for ini in range(inimax):\n",
    "        print(\"BayesOpt-Iteration {} - ini-Ensemblemember {}\".format(len(optimizer.res)+1, ini+1))\n",
    "        \n",
    "        # f = open('log_full.txt', \"a\")\n",
    "        # print(\"BayesOpt-Iteration {} - ini-Ensemblemember {}\".format(len(optimizer.res)+1, ini+1), file = f)\n",
    "        # f.close()\n",
    "        \n",
    "        model = build_model(ini,GLOBAL_SETTINGS,X_train, Y_train, X_stop, Y_stop)  \n",
    "        opt_sim= model.predict(X_opt)#(n,1)\n",
    "        #opt_sim = scaler_gwl.inverse_transform(opt_sim_n)\n",
    "        #optresults_members[:, ini] = opt_sim\n",
    "        optresults_members[:, ini] = opt_sim.reshape(-1,)#(n,) \n",
    "    \n",
    "    opt_sim_median = np.median(optresults_members,axis = 1)#(n,)    \n",
    "    #sim = np.asarray(opt_sim_median.reshape(-1,1))#(n,1)\n",
    "    #obs = np.asarray(Y_opt.reshape(-1,1))#(n,1)\n",
    "    #err = sim-obs\n",
    "    #meanTrainingGWL = np.mean(np.asarray(TrainingData['GWL']))\n",
    "    #meanStopGWL = np.mean(np.asarray(StopData['GWL']))\n",
    "    #err_nash = obs - np.mean([meanTrainingGWL, meanStopGWL])\n",
    "    #r = stats.linregress(sim[:,0], obs[:,0])\n",
    "    r = stats.linregress(Y_opt, opt_sim_median)\n",
    "    \n",
    "    print(\"total elapsed time = {}\".format(datetime.datetime.now()-time1))\n",
    "    print(\"(pp) elapsed time = {}\".format(datetime.datetime.now()-time_single))\n",
    "    # f = open('log_full.txt', \"a\")\n",
    "    # print(\"elapsed time = {}\".format(datetime.datetime.now()-time1), file = f)\n",
    "    # f.close()\n",
    "    \n",
    "    #return (1 - ((np.sum(err ** 2)) / (np.sum((err_nash) ** 2)))) + r.rvalue ** 2 #NSE+R²: (max = 2)\n",
    "    return  (r2_score(Y_opt,opt_sim_median)+r.rvalue ** 2)"
   ]
  },
  {
   "cell_type": "code",
   "execution_count": 6,
   "id": "eca6ae22",
   "metadata": {},
   "outputs": [],
   "source": [
    "def simulate_testset(hiddensize_int, batchsize_int):\n",
    "    \n",
    "    GLOBAL_SETTINGS = {\n",
    "        'batch_size': batchsize_int,\n",
    "        'clip_norm': True,\n",
    "        'clip_value': 1,\n",
    "        'dropout': 0,\n",
    "        'epochs': 1000,\n",
    "        'hidden_size': hiddensize_int,\n",
    "        'learning_rate': 1e-3\n",
    "    }\n",
    "\n",
    "    #build and train model with idifferent initializations\n",
    "    inimax = 20\n",
    "    testresults_members = np.zeros((len(X_test), inimax))\n",
    "    for ini in range(inimax):\n",
    "        model = build_model(ini,GLOBAL_SETTINGS,X_train, Y_train, X_stop, Y_stop)  \n",
    "        test_sim= model.predict(X_test)#(n,1)\n",
    "        #test_sim = scaler_gwl.inverse_transform(test_sim_n)\n",
    "        testresults_members[:, ini] = test_sim.reshape(-1,)#(n,) \n",
    "        #testresults_members的shape为(79,10)\n",
    "    \n",
    "    test_sim_median = np.median(testresults_members,axis = 1)#（n,）   \n",
    "    \n",
    "    #introduce GWL t-1 as additional Input (nalso needed for PI calculation)\n",
    "    #GWData_shift1 = pd.DataFrame(data['GWL'])\n",
    "    #GWData_shift1.index = GWData_shift1.index.shift(periods = 7, freq = 'D')\n",
    "    #GWData_shift1.rename(columns={\"GWL\": \"GWLt-1\"},inplace=True)\n",
    "    #PIData = GWData_shift1[(GWData_shift1.index >= GLOBAL_SETTINGS[\"test_start\"]) & (GWData_shift1.index <= GLOBAL_SETTINGS[\"test_end\"])]\n",
    "    \n",
    "    # get scores\n",
    "\n",
    "    r = stats.linregress(Y_test, test_sim_median)#stats.linregress(a, b)和stats.linregress(b, a)结果相同\n",
    "    R2 = r.rvalue ** 2\n",
    "    NSE = r2_score(Y_test,test_sim_median)#sklearn.metrics.r2_score(y_true, y_pred, *, sample_weight=None, multioutput='uniform_average')\n",
    "    sim = np.asarray(test_sim_median.reshape(-1,1))#(n,1)\n",
    "    #obs = np.asarray(scaler_gwl.inverse_transform(Y_test.reshape(-1,1)))\n",
    "    obs = np.asarray(Y_test.reshape(-1,1))#(n,1)\n",
    "    err = sim-obs#(n,1)\n",
    "    Bias = np.mean(err)\n",
    "    RMSE =  np.sqrt(np.mean(err ** 2))\n",
    "    \n",
    "    ##err_rel = (sim-obs)/(np.max(data['GWL'])-np.min(data['GWL']))\n",
    "    #err_nash = obs - np.mean(np.asarray(data['GWL'][(data.index < GLOBAL_SETTINGS[\"test_start\"])]))错误\n",
    "    #err_nash = obs - np.mean(np.asarray(data['GWL'][(data.index >= GLOBAL_SETTINGS[\"test_start\"]) & (data.index <= GLOBAL_SETTINGS[\"test_end\"])]))\n",
    "    #err_PI = obs-obs_PI\n",
    "    #r = stats.linregress(sim[:,0], obs[:,0])\n",
    "    #rRMSE = np.sqrt(np.mean(err_rel ** 2)) * 100\n",
    "    #rBias = np.mean(err_rel) * 100\n",
    "    #PI = 1 - ((np.sum(err ** 2)) / (np.sum((err_PI) ** 2)))\n",
    "    scores = pd.DataFrame(np.array([[NSE, R2, RMSE, Bias]]),\n",
    "                   columns=['NSE','R2','RMSE','Bias'])\n",
    "    print(scores)\n",
    "\n",
    "    errors = np.zeros((inimax,4))\n",
    "    errors[:] = np.nan\n",
    "    for i in range(inimax):\n",
    "        sim = np.asarray(testresults_members[:,i].reshape(-1,1))#(n,1)\n",
    "        # obs = np.asarray(scaler_gwl.inverse_transform(Y_test.reshape(-1,1)))\n",
    "        err = sim-obs\n",
    "        #err_rel = (sim-obs)/(np.max(data['GWL'])-np.min(data['GWL']))\n",
    "        # err_nash = obs - np.mean(np.asarray(data['GWL'][(data.index < GLOBAL_SETTINGS[\"test_start\"])]))错误\n",
    "        #err_nash = obs - np.mean(np.asarray(data['GWL'][(data.index >= GLOBAL_SETTINGS[\"test_start\"]) & (data.index <= GLOBAL_SETTINGS[\"test_end\"])]))\n",
    "        errors[i,0] = r2_score(Y_test,testresults_members[:,i])\n",
    "        r = stats.linregress(sim[:,0], obs[:,0])\n",
    "        errors[i,1] = r.rvalue ** 2\n",
    "        errors[i,2] =  np.sqrt(np.mean(err ** 2))\n",
    "        errors[i,3] = np.mean(err)\n",
    "    \n",
    "    sim = np.asarray(test_sim_median.reshape(-1,1))#median simulation (n,1)\n",
    "    return scores, sim, obs, inimax, testresults_members, errors"
   ]
  },
  {
   "cell_type": "code",
   "execution_count": 7,
   "id": "93a3839a",
   "metadata": {},
   "outputs": [],
   "source": [
    "class newJSONLogger(JSONLogger) :\n",
    "\n",
    "      def __init__(self, path):\n",
    "            self._path=None\n",
    "            super(JSONLogger, self).__init__()\n",
    "            self._path = path if path[-5:] == \".json\" else path + \".json\""
   ]
  },
  {
   "cell_type": "code",
   "execution_count": 8,
   "id": "a39c5df4",
   "metadata": {},
   "outputs": [
    {
     "name": "stdout",
     "output_type": "stream",
     "text": [
      "[[ 0.53171244 -0.70329486  2.04033737 -1.7940405 ]\n",
      " [ 0.53171244 -0.70329486  2.04033737 -1.77592594]\n",
      " [ 0.53171244 -0.70329486  2.04033737 -1.75781138]\n",
      " [ 0.53171244 -0.70329486  2.04033737 -1.73969682]\n",
      " [ 0.53171244 -0.70329486  2.04033737 -1.72158226]\n",
      " [ 0.53171244 -0.70329486  2.04033737 -1.7034677 ]\n",
      " [ 0.53171244 -0.70329486  2.04033737 -1.68535314]\n",
      " [ 0.53171244 -0.70329486  2.04033737 -1.66723858]\n",
      " [ 0.53171244 -0.70329486  2.04033737 -1.64912402]\n",
      " [ 0.53171244 -0.70329486  2.04033737 -1.63100945]\n",
      " [ 0.53171244 -0.70329486  2.04033737 -1.61289489]\n",
      " [ 0.53171244 -0.70329486  2.04033737 -1.59478033]\n",
      " [ 0.53171244 -0.70329486  2.04033737 -1.57666577]\n",
      " [ 0.53171244 -0.70329486  2.04033737 -1.55855121]\n",
      " [ 0.53171244 -0.70329486  2.04033737 -1.54043665]\n",
      " [ 0.53171244 -0.70329486  2.04033737 -1.52232209]\n",
      " [ 0.53171244 -0.70329486  2.04033737 -1.50420753]\n",
      " [ 0.53171244 -0.70329486  2.04033737 -1.48609297]\n",
      " [ 0.53171244 -0.70329486  2.04033737 -1.46797841]\n",
      " [ 0.53171244 -0.70329486  2.04033737 -1.44986385]\n",
      " [ 0.53171244 -0.70329486  2.04033737 -1.43174929]\n",
      " [ 0.53171244 -0.70329486  2.04033737 -1.41363473]\n",
      " [ 0.53171244 -0.70329486  2.04033737 -1.39552017]\n",
      " [ 0.53171244 -0.70329486  2.04033737 -1.37740561]\n",
      " [ 0.53171244 -0.70329486  2.04033737 -1.35929104]\n",
      " [ 0.53171244 -0.70329486  2.04033737 -1.34117648]\n",
      " [ 0.53171244 -0.70329486  2.04033737 -1.32306192]\n",
      " [ 0.53171244 -0.70329486  2.04033737 -1.30494736]\n",
      " [ 0.53171244 -0.70329486  2.04033737 -1.2868328 ]\n",
      " [ 0.53171244 -0.70329486  2.04033737 -1.26871824]\n",
      " [ 0.53171244 -0.70329486  2.04033737 -1.25060368]\n",
      " [ 0.53171244 -0.70329486  2.04033737 -1.23248912]\n",
      " [ 0.53171244 -0.70329486  2.04033737 -1.21437456]\n",
      " [ 0.53171244 -0.70329486  2.04033737 -1.19626   ]\n",
      " [ 0.53171244 -0.70329486  2.04033737 -1.17814544]\n",
      " [ 0.53171244 -0.70329486  2.04033737 -1.16003088]\n",
      " [ 0.53171244 -0.70329486  2.04033737 -1.14191632]\n",
      " [ 0.53171244 -0.70329486  2.04033737 -1.12380176]\n",
      " [ 0.53171244 -0.70329486  2.04033737 -1.10568719]\n",
      " [ 0.53171244 -0.70329486  2.04033737 -1.08757263]\n",
      " [ 0.53171244 -0.70329486  2.04033737 -1.06945807]\n",
      " [ 0.53171244 -0.70329486  2.04033737 -1.05134351]\n",
      " [ 0.53171244 -0.70329486  2.04033737 -1.03322895]\n",
      " [ 0.53171244 -0.70329486  2.04033737 -1.01511439]\n",
      " [ 0.53171244 -0.70329486  2.04033737 -0.99699983]\n",
      " [ 0.53171244 -0.70329486  2.04033737 -0.97888527]\n",
      " [ 0.53171244 -0.70329486  2.04033737 -0.96077071]\n",
      " [ 0.53171244 -0.70329486  2.04033737 -0.94265615]\n",
      " [ 0.53171244 -0.70329486  2.04033737 -0.92454159]\n",
      " [ 0.53171244 -0.70329486  2.04033737 -0.90642703]\n",
      " [ 0.53171244 -0.70329486  2.04033737 -0.88831247]\n",
      " [ 0.53171244 -0.70329486  2.04033737 -0.87019791]\n",
      " [ 0.53171244 -0.70329486  2.04033737 -0.85208334]\n",
      " [ 0.53171244 -0.70329486  2.04033737 -0.83396878]\n",
      " [ 0.53171244 -0.70329486  2.04033737 -0.81585422]\n",
      " [ 0.53171244 -0.70329486  2.04033737 -0.79773966]]\n",
      "[0.0015   0.0091   0.03239  0.07745  0.12707  0.15644  0.15189  0.12505\n",
      " 0.09315  0.06581  0.04707  0.03543  0.02834  0.02429  0.02125  0.01922\n",
      " 0.0172   0.01619  0.01467  0.01365  0.01264  0.01163  0.01062  0.0096\n",
      " 0.0091   0.00808  0.00758  0.00707  0.00657  0.00606  0.00555  0.00505\n",
      " 0.00454  0.00454  0.00403  0.00353  0.00353  0.00302  0.00302  0.00251\n",
      " 0.00251  0.00201  0.00201  0.00201  0.0015   0.0015   0.0015   0.0015\n",
      " 0.0015   0.000995 0.000995 0.000995 0.000995 0.000995 0.000995 0.000489]\n"
     ]
    }
   ],
   "source": [
    "with tf.device(\"/gpu:0\"): #type cpu to use cpu instead of gpu\n",
    "    \n",
    "    time1 = datetime.datetime.now()\n",
    "    basedir = './'\n",
    "    os.chdir(basedir)\n",
    "    \n",
    "    #for pp in range(0,17): #loop over all wells\n",
    "    \n",
    "    time_single = datetime.datetime.now()\n",
    "    seed(1)\n",
    "    tf.random.set_seed(1)\n",
    "    \n",
    "    ## load data\n",
    "    X_train,Y_train,X_stop,Y_stop, X_opt,Y_opt,X_test,Y_test=load_Data(18)\n",
    "    print(X_test)\n",
    "    print(Y_test)"
   ]
  },
  {
   "cell_type": "code",
   "execution_count": 9,
   "id": "5659fcb4",
   "metadata": {},
   "outputs": [],
   "source": [
    "# Bounded region of parameter space\n",
    "    pbounds = {'hiddensize': (1, 64),\n",
    "                'batchsize': (16, 256)} #constrained optimization technique, so you must specify the minimum and maximum values that can be probed for each parameter\n",
    "        \n",
    "    optimizer = BayesianOptimization(\n",
    "                f= bayesOpt_function, #function that is optimized\n",
    "                pbounds=pbounds, #opt.-range of parameters\n",
    "                random_state=1, \n",
    "                verbose = 0 # verbose = 1 prints only when a maximum is observed, verbose = 0 is silent, verbose = 2 prints everything\n",
    "                )"
   ]
  },
  {
   "cell_type": "code",
   "execution_count": 10,
   "id": "2620eb61",
   "metadata": {},
   "outputs": [
    {
     "name": "stdout",
     "output_type": "stream",
     "text": [
      "\n",
      "Existing optimizer is already aware of 72 points.\n"
     ]
    }
   ],
   "source": [
    "#load existing optimizer\n",
    "    log_already_available = 0\n",
    "    if os.path.isfile(\"./logs_abc_b9\"+\".json\"):\n",
    "        load_logs(optimizer, logs=[\"./logs_abc_b9\"+\".json\"]);\n",
    "        print(\"\\nExisting optimizer is already aware of {} points.\".format(len(optimizer.space)))\n",
    "        log_already_available = 1\n",
    "            \n",
    "    # Saving progress\n",
    "    logger = newJSONLogger(path=\"./logs_abc_b9\"+\".json\")\n",
    "    optimizer.subscribe(Events.OPTIMIZATION_STEP, logger)"
   ]
  },
  {
   "cell_type": "code",
   "execution_count": 11,
   "id": "3ee48991",
   "metadata": {},
   "outputs": [],
   "source": [
    "# random exploration as a start\n",
    "    f = open('./timelog_abc_b9'+'.txt', \"w\")\n",
    "    print(\"Starttime of first iteration: {}\\n\".format(datetime.datetime.now()), file = f)#this is not looged in json file"
   ]
  },
  {
   "cell_type": "code",
   "execution_count": 12,
   "id": "ef954142",
   "metadata": {
    "scrolled": true
   },
   "outputs": [
    {
     "name": "stdout",
     "output_type": "stream",
     "text": [
      "\n",
      "BEST:\t{'target': 1.9701490850332348, 'params': {'batchsize': 23.62289817465942, 'hiddensize': 56.00235610382082}}\n"
     ]
    }
   ],
   "source": [
    "    if log_already_available == 0:\n",
    "            optimizer.maximize(\n",
    "                init_points=25, #steps of random exploration (random starting points before bayesopt(?))\n",
    "                n_iter=0, # steps of bayesian optimization\n",
    "                acq=\"ei\",# ei  = expected improvmenet (probably the most common acquisition function) \n",
    "                xi=0.05  #  Prefer exploitation (xi=0.0) / Prefer exploration (xi=0.1)\n",
    "                )\n",
    "        \n",
    "    # optimize while improvement during last 10 steps!\n",
    "    current_step = len(optimizer.res)\n",
    "    beststep = False\n",
    "    step = -1\n",
    "    while not beststep:\n",
    "        step = step + 1\n",
    "        beststep = optimizer.res[step] == optimizer.max #search for best iteration step\n",
    "    while current_step < 50: #below < 50 iterations, no termination\n",
    "            current_step = len(optimizer.res)\n",
    "            beststep = False\n",
    "            step = -1\n",
    "            while not beststep:\n",
    "                step = step + 1\n",
    "                beststep = optimizer.res[step] == optimizer.max\n",
    "            print(\"\\nbeststep {}, current step {}\".format(step+1, current_step+1))\n",
    "            optimizer.maximize(\n",
    "                init_points=0, #steps of random exploration \n",
    "                n_iter=1, # steps of bayesian optimization\n",
    "                acq=\"ei\",# ei  = expected improvmenet (probably the most common acquisition function) \n",
    "                xi=0.05  #  Prefer exploitation (xi=0.0) / Prefer exploration (xi=0.1)\n",
    "                )\n",
    "                \n",
    "    while (step + 20 > current_step and current_step < 150): # termination after 50 steps or after 10 steps without improvement\n",
    "            current_step = len(optimizer.res)\n",
    "            beststep = False\n",
    "            step = -1\n",
    "            while not beststep:\n",
    "                step = step + 1\n",
    "                beststep = optimizer.res[step] == optimizer.max\n",
    "                    \n",
    "\n",
    "            print(\"\\nbeststep {}, current step {}\".format(step+1, current_step+1))\n",
    "            optimizer.maximize(\n",
    "                init_points=0, #steps of random exploration\n",
    "                n_iter=1, # steps of bayesian optimization\n",
    "                acq=\"ei\",# ei  = expected improvmenet (probably the most common acquisition function) \n",
    "                xi=0.05  #  Prefer exploitation (xi=0.0) / Prefer exploration (xi=0.1)\n",
    "                )\n",
    "            \n",
    "    print(\"\\nBEST:\\t{}\".format(optimizer.max))\n",
    "    # for i, res in enumerate(optimizer.res):\n",
    "    #     print(\"Iteration {}: \\t{}\".format(i+1, res))\n",
    "            \n",
    "    \n",
    "        \n",
    "    #best values from optimizer\n",
    "    hiddensize_int = int(optimizer.max.get(\"params\").get(\"hiddensize\"))\n",
    "    batchsize_int = int(optimizer.max.get(\"params\").get(\"batchsize\"))"
   ]
  },
  {
   "cell_type": "code",
   "execution_count": 13,
   "id": "6989b3ef",
   "metadata": {},
   "outputs": [],
   "source": [
    "#run test set simulations\n",
    "t1_test = datetime.datetime.now()"
   ]
  },
  {
   "cell_type": "code",
   "execution_count": 14,
   "id": "4ae6dc4a",
   "metadata": {},
   "outputs": [
    {
     "name": "stdout",
     "output_type": "stream",
     "text": [
      "        NSE        R2      RMSE      Bias\n",
      "0  0.801366  0.819078  0.016869  0.004919\n",
      "(56, 20)\n",
      "[[ 7.35466064e-01  7.70938288e-01  1.94668315e-02  6.91819533e-03]\n",
      " [ 5.22350155e-01  7.06772806e-01  2.61582926e-02  8.97732210e-03]\n",
      " [ 8.60717981e-01  8.85129229e-01  1.41254437e-02  4.73040758e-03]\n",
      " [ 6.30833512e-01  7.37105831e-01  2.29967099e-02  8.39051907e-03]\n",
      " [ 5.61975337e-01  6.01969383e-01  2.50497764e-02  6.62147051e-03]\n",
      " [ 8.83907490e-01  8.87431023e-01  1.28960489e-02 -2.23544942e-03]\n",
      " [ 7.09347363e-01  8.49352633e-01  2.04052399e-02  1.08800536e-02]\n",
      " [ 6.26668377e-01  6.68473582e-01  2.31260767e-02 -7.49490394e-04]\n",
      " [ 6.48861833e-01  6.85730701e-01  2.24281572e-02  7.11929246e-03]\n",
      " [ 8.33977231e-01  8.66381900e-01  1.54219183e-02  5.66537957e-03]\n",
      " [ 8.12132012e-01  8.62277401e-01  1.64051786e-02  7.67917764e-03]\n",
      " [ 7.66786831e-01  7.92133483e-01  1.82781024e-02  5.81926480e-03]\n",
      " [ 2.38483606e-01  5.57312328e-01  3.30289069e-02  1.84440071e-02]\n",
      " [ 4.06256590e-01  6.72661216e-01  2.91644623e-02  1.09663074e-02]\n",
      " [ 8.19109756e-01  8.19859639e-01  1.60976375e-02 -1.00763428e-03]\n",
      " [ 9.01753516e-01  9.12597312e-01  1.18635067e-02 -2.58051877e-03]\n",
      " [ 6.44556994e-01  6.52699429e-01  2.25652193e-02 -3.41523479e-03]\n",
      " [ 7.58728760e-01  8.56500926e-01  1.85911969e-02  1.16276870e-02]\n",
      " [ 7.40396738e-01  7.76981406e-01  1.92845560e-02 -5.80332189e-03]\n",
      " [ 7.96858797e-01  8.21811266e-01  1.70590005e-02  5.72203987e-03]]\n"
     ]
    }
   ],
   "source": [
    "scores, sim_med, obs, inimax, predresults_ensembles, errors_ensembles = simulate_testset(hiddensize_int, batchsize_int)#errors(20,4)\n",
    "print(predresults_ensembles.shape)\n",
    "print(errors_ensembles)"
   ]
  },
  {
   "cell_type": "code",
   "execution_count": 15,
   "id": "f2356f7c",
   "metadata": {},
   "outputs": [],
   "source": [
    "t2_test = datetime.datetime.now()"
   ]
  },
  {
   "cell_type": "code",
   "execution_count": 16,
   "id": "c2dc96d3",
   "metadata": {},
   "outputs": [],
   "source": [
    "f = open('./timelog_abc_b9'+'.txt', \"a\") \n",
    "print(\"Time [s] for Test-Eval(10 inis)\\n{}\\n\".format(t2_test-t1_test), file = f)"
   ]
  },
  {
   "cell_type": "code",
   "execution_count": 17,
   "id": "7d0e5c8e",
   "metadata": {},
   "outputs": [
    {
     "name": "stdout",
     "output_type": "stream",
     "text": [
      "0.9017535163142125\n"
     ]
    }
   ],
   "source": [
    "for i in range(inimax):\n",
    "    if errors_ensembles[i,0]==np.max(errors_ensembles[:,0]):\n",
    "        maxi=i\n",
    "NSE_best=r2_score(Y_test,predresults_ensembles[:, maxi])\n",
    "print(NSE_best)\n",
    "sim_best=np.asarray(predresults_ensembles[:, maxi].reshape(-1,1))#(n,1)\n",
    "###print(obs, sim_med,sim_best,predresults_ensembles, errors_ensembles)\n",
    "np.savetxt('sim_med_abc_b9'+'.csv',sim_med, delimiter=',')\n",
    "np.savetxt('sim_best_abc_b9'+'.csv',sim_best, delimiter=',')\n",
    "np.savetxt('pred_ensembles_abc_b9'+'.csv',predresults_ensembles, delimiter=',')\n",
    "np.savetxt('error_ensembles_abc_b9'+'.csv',errors_ensembles, delimiter=',')"
   ]
  },
  {
   "cell_type": "code",
   "execution_count": 18,
   "id": "80593fac",
   "metadata": {},
   "outputs": [
    {
     "data": {
      "image/png": "[encoded data removed]",
      "text/plain": [
       "<Figure size 1080x432 with 1 Axes>"
      ]
     },
     "metadata": {
      "needs_background": "light"
     },
     "output_type": "display_data"
    }
   ],
   "source": [
    "nums = range(1, len(obs) + 1)\n",
    "\n",
    "pyplot.figure(figsize=(15,6))\n",
    "pyplot.plot(nums, sim_med, 'r', label =\"sim_med\")\n",
    "        \n",
    "for ini in range(inimax):\n",
    "    if ini==maxi:\n",
    "        pyplot.plot(nums, predresults_ensembles[:, ini], 'black', label='sim_best', alpha=1)\n",
    "    else:\n",
    "        pyplot.plot(nums, predresults_ensembles[:, ini], 'r', label='_nolegend_', alpha=0.2)\n",
    "        \n",
    "pyplot.plot(nums, obs, 'b', label =\"observed\")\n",
    "pyplot.title(\"abc_b9\", size=15)\n",
    "pyplot.ylabel('Concentration [g/L]', size=12)\n",
    "pyplot.xlabel('Time [s]',size=12)\n",
    "pyplot.legend(fontsize=12,bbox_to_anchor=(1, 1),loc='upper right')\n",
    "pyplot.tight_layout()\n",
    "\n",
    "s = \"\"\"NSE = {:.2f}\\nR²  = {:.2f}\\nRMSE = {:.2f}\\nBias = {:.2f}\\nhiddensize = {:d}\\nbatchsize = {:d}\"\"\".format(scores.NSE[0],scores.R2[0],\n",
    "        scores.RMSE[0],scores.Bias[0],hiddensize_int,batchsize_int)\n",
    "\n",
    "pyplot.figtext(0.9, 0.6, s, bbox=dict(facecolor='white'))\n",
    "pyplot.savefig('abc_b9.png', dpi=300)\n",
    "pyplot.show()"
   ]
  },
  {
   "cell_type": "code",
   "execution_count": 19,
   "id": "3ac2c635",
   "metadata": {},
   "outputs": [
    {
     "name": "stdout",
     "output_type": "stream",
     "text": [
      "0    0.801366\n",
      "Name: NSE, dtype: float64\n"
     ]
    }
   ],
   "source": [
    "print(scores.NSE)"
   ]
  },
  {
   "cell_type": "code",
   "execution_count": 20,
   "id": "732425b7",
   "metadata": {},
   "outputs": [],
   "source": [
    "# print log summary file\n",
    "f = open('./log_summary_abc_b9'+'.txt', \"w\", encoding= \"utf-8\")\n",
    "print(\"\\nBEST:\\n\\n\"+s+\"\\n\", file = f)\n",
    "print(\"best iteration = {}\".format(step+1), file = f)\n",
    "print(\"max iteration = {}\\n\".format(len(optimizer.res)), file = f)\n",
    "\n",
    "for i, res in enumerate(optimizer.res):\n",
    "    print(\"Iteration {}: \\t{}\".format(i+1, res), file = f) \n",
    "f.close()"
   ]
  },
  {
   "cell_type": "markdown",
   "id": "c61de553",
   "metadata": {},
   "source": [
    "#print ensemble member errors\n",
    "np.savetxt('./errors_ensembles_abc_a5'+'.txt',errors_ensembles,delimiter=';',header = 'NSE;R²;RMSE;Bias', fmt = '%.4f', encoding= \"utf-8\")\n",
    "        \n",
    "#print sim data\n",
    "printdf = pd.DataFrame(data=predresults_ensembles,index=nums)\n",
    "printdf.to_csv('./pred_ensembles_abc_a5'+'.txt',sep=';')"
   ]
  },
  {
   "cell_type": "code",
   "execution_count": null,
   "id": "22bb15cf",
   "metadata": {},
   "outputs": [],
   "source": []
  }
 ],
 "metadata": {
  "kernelspec": {
   "display_name": "Python 3",
   "language": "python",
   "name": "python3"
  },
  "language_info": {
   "codemirror_mode": {
    "name": "ipython",
    "version": 3
   },
   "file_extension": ".py",
   "mimetype": "text/x-python",
   "name": "python",
   "nbconvert_exporter": "python",
   "pygments_lexer": "ipython3",
   "version": "3.6.13"
  }
 },
 "nbformat": 4,
 "nbformat_minor": 5
}
